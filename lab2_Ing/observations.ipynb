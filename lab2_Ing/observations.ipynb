{
    "metadata": {
        "kernelspec": {
            "name": "python3",
            "display_name": "Python 3 (ipykernel)",
            "language": "python"
        }
    },
    "nbformat": 4,
    "nbformat_minor": 2,
    "cells": [
        {
            "attachments": {},
            "cell_type": "markdown",
            "metadata": {},
            "source": [
                "**Describe the problem that you chose to solve. How is it related to the topic that your team will investigate for the Discover AI project?**"
            ]
        },
        {
            "attachments": {},
            "cell_type": "markdown",
            "metadata": {},
            "source": [
                "I chose to do the heart disease identification lab. My group decided to research facial recognition and the use of AI in the hiring process for our final project . Since supervised learning is used in facial recognition and predicting outcomes, I decided that one of the labs in the supervised learning folder would be fitting for what we plan on doing."
            ]
        },
        {
            "attachments": {},
            "cell_type": "markdown",
            "metadata": {},
            "source": [
                "**Did you have to clean your dataset? If yes, desribe what you did.**"
            ]
        },
        {
            "attachments": {},
            "cell_type": "markdown",
            "metadata": {},
            "source": [
                "\n",
                "Yes, I had to clean my dataset. I first changed the column names to make them more clear. Then, I changed the values of the categorical variables. Finally, I created dummy varaibles and dropped the first category of each categorical variable. When training the model, I split the dataset into an input and output set."
            ]
        },
        {
            "attachments": {},
            "cell_type": "markdown",
            "metadata": {},
            "source": [
                "**Did the program run successfully? If yes, summarise the results, otherwise, describe what went wrong and your attempt(s) to fix it.**"
            ]
        },
        {
            "attachments": {},
            "cell_type": "markdown",
            "metadata": {},
            "source": [
                "Yes, the program ran successfully and I was able to train a decision tree with around 70% accuracy with the test dataset. I then stored the model in a joblib file and also created a tree.png to visualize the decision tree."
            ]
        },
        {
            "attachments": {},
            "cell_type": "markdown",
            "metadata": {},
            "source": [
                "**Submit the link to your group's github**"
            ]
        },
        {
            "attachments": {},
            "cell_type": "markdown",
            "metadata": {},
            "source": [
                "https://github.com/EdwinIngJ/DiscoverAI_Projects_10"
            ]
        }
    ]
}
