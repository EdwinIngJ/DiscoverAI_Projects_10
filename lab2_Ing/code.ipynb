{
    "metadata": {
        "kernelspec": {
            "name": "python3",
            "display_name": "Python 3 (ipykernel)",
            "language": "python"
        }
    },
    "nbformat": 4,
    "nbformat_minor": 2,
    "cells": [
        {
            "attachments": {},
            "cell_type": "markdown",
            "metadata": {},
            "source": [
                "# **Heart Disease Identification with Decision Trees**"
            ]
        },
        {
            "attachments": {},
            "cell_type": "markdown",
            "metadata": {},
            "source": [
                "The code below is taken from Pablo M Gomez's submission on [kaggle.com](https://www.kaggle.com/tentotheminus9/what-causes-heart-disease-explaining-the-model).\n",
                "\n",
                "You are encouraged to go to the link above and check the full code. In this lab, you will do the necessary steps to explore the data and prepare it for sklearn algorithms."
            ]
        },
        {
            "attachments": {},
            "cell_type": "markdown",
            "metadata": {},
            "source": [
                "**About the data set**"
            ]
        },
        {
            "attachments": {},
            "cell_type": "markdown",
            "metadata": {},
            "source": [
                "The Cleveland database is the only one that has been used by ML researchers to\n",
                "this date to predict the presence of heart disease in a patient. It is integer valued from 0 (no presence) to 4.\n",
                ""
            ]
        },
        {
            "attachments": {},
            "cell_type": "markdown",
            "metadata": {},
            "source": [
                "**Import libraries**"
            ]
        },
        {
            "cell_type": "code",
            "execution_count": 91,
            "metadata": {},
            "outputs": [],
            "source": [
                "#loading dataset\n",
                "import pandas as pd\n",
                "import numpy as np\n",
                "\n",
                "#visualisation\n",
                "import matplotlib.pyplot as plt\n",
                "%matplotlib inline\n",
                "import seaborn as sns\n",
                "\n",
                "# data splitting\n",
                "from sklearn.model_selection import train_test_split\n",
                "\n",
                "# data modeling\n",
                "from sklearn.tree import DecisionTreeClassifier"
            ]
        },
        {
            "attachments": {},
            "cell_type": "markdown",
            "metadata": {},
            "source": [
                "# Acquire data"
            ]
        },
        {
            "cell_type": "code",
            "execution_count": 92,
            "metadata": {},
            "outputs": [
                {
                    "data": {
                        "text/html": "\u003cdiv\u003e\n\u003cstyle scoped\u003e\n    .dataframe tbody tr th:only-of-type {\n        vertical-align: middle;\n    }\n\n    .dataframe tbody tr th {\n        vertical-align: top;\n    }\n\n    .dataframe thead th {\n        text-align: right;\n    }\n\u003c/style\u003e\n\u003ctable border=\"1\" class=\"dataframe\"\u003e\n  \u003cthead\u003e\n    \u003ctr style=\"text-align: right;\"\u003e\n      \u003cth\u003e\u003c/th\u003e\n      \u003cth\u003eage\u003c/th\u003e\n      \u003cth\u003esex\u003c/th\u003e\n      \u003cth\u003ecp\u003c/th\u003e\n      \u003cth\u003etrestbps\u003c/th\u003e\n      \u003cth\u003echol\u003c/th\u003e\n      \u003cth\u003efbs\u003c/th\u003e\n      \u003cth\u003erestecg\u003c/th\u003e\n      \u003cth\u003ethalach\u003c/th\u003e\n      \u003cth\u003eexang\u003c/th\u003e\n      \u003cth\u003eoldpeak\u003c/th\u003e\n      \u003cth\u003eslope\u003c/th\u003e\n      \u003cth\u003eca\u003c/th\u003e\n      \u003cth\u003ethal\u003c/th\u003e\n      \u003cth\u003etarget\u003c/th\u003e\n    \u003c/tr\u003e\n  \u003c/thead\u003e\n  \u003ctbody\u003e\n    \u003ctr\u003e\n      \u003cth\u003e0\u003c/th\u003e\n      \u003ctd\u003e63\u003c/td\u003e\n      \u003ctd\u003e1\u003c/td\u003e\n      \u003ctd\u003e3\u003c/td\u003e\n      \u003ctd\u003e145\u003c/td\u003e\n      \u003ctd\u003e233\u003c/td\u003e\n      \u003ctd\u003e1\u003c/td\u003e\n      \u003ctd\u003e0\u003c/td\u003e\n      \u003ctd\u003e150\u003c/td\u003e\n      \u003ctd\u003e0\u003c/td\u003e\n      \u003ctd\u003e2.3\u003c/td\u003e\n      \u003ctd\u003e0\u003c/td\u003e\n      \u003ctd\u003e0\u003c/td\u003e\n      \u003ctd\u003e1\u003c/td\u003e\n      \u003ctd\u003e1\u003c/td\u003e\n    \u003c/tr\u003e\n    \u003ctr\u003e\n      \u003cth\u003e1\u003c/th\u003e\n      \u003ctd\u003e37\u003c/td\u003e\n      \u003ctd\u003e1\u003c/td\u003e\n      \u003ctd\u003e2\u003c/td\u003e\n      \u003ctd\u003e130\u003c/td\u003e\n      \u003ctd\u003e250\u003c/td\u003e\n      \u003ctd\u003e0\u003c/td\u003e\n      \u003ctd\u003e1\u003c/td\u003e\n      \u003ctd\u003e187\u003c/td\u003e\n      \u003ctd\u003e0\u003c/td\u003e\n      \u003ctd\u003e3.5\u003c/td\u003e\n      \u003ctd\u003e0\u003c/td\u003e\n      \u003ctd\u003e0\u003c/td\u003e\n      \u003ctd\u003e2\u003c/td\u003e\n      \u003ctd\u003e1\u003c/td\u003e\n    \u003c/tr\u003e\n    \u003ctr\u003e\n      \u003cth\u003e2\u003c/th\u003e\n      \u003ctd\u003e41\u003c/td\u003e\n      \u003ctd\u003e0\u003c/td\u003e\n      \u003ctd\u003e1\u003c/td\u003e\n      \u003ctd\u003e130\u003c/td\u003e\n      \u003ctd\u003e204\u003c/td\u003e\n      \u003ctd\u003e0\u003c/td\u003e\n      \u003ctd\u003e0\u003c/td\u003e\n      \u003ctd\u003e172\u003c/td\u003e\n      \u003ctd\u003e0\u003c/td\u003e\n      \u003ctd\u003e1.4\u003c/td\u003e\n      \u003ctd\u003e2\u003c/td\u003e\n      \u003ctd\u003e0\u003c/td\u003e\n      \u003ctd\u003e2\u003c/td\u003e\n      \u003ctd\u003e1\u003c/td\u003e\n    \u003c/tr\u003e\n    \u003ctr\u003e\n      \u003cth\u003e3\u003c/th\u003e\n      \u003ctd\u003e56\u003c/td\u003e\n      \u003ctd\u003e1\u003c/td\u003e\n      \u003ctd\u003e1\u003c/td\u003e\n      \u003ctd\u003e120\u003c/td\u003e\n      \u003ctd\u003e236\u003c/td\u003e\n      \u003ctd\u003e0\u003c/td\u003e\n      \u003ctd\u003e1\u003c/td\u003e\n      \u003ctd\u003e178\u003c/td\u003e\n      \u003ctd\u003e0\u003c/td\u003e\n      \u003ctd\u003e0.8\u003c/td\u003e\n      \u003ctd\u003e2\u003c/td\u003e\n      \u003ctd\u003e0\u003c/td\u003e\n      \u003ctd\u003e2\u003c/td\u003e\n      \u003ctd\u003e1\u003c/td\u003e\n    \u003c/tr\u003e\n    \u003ctr\u003e\n      \u003cth\u003e4\u003c/th\u003e\n      \u003ctd\u003e57\u003c/td\u003e\n      \u003ctd\u003e0\u003c/td\u003e\n      \u003ctd\u003e0\u003c/td\u003e\n      \u003ctd\u003e120\u003c/td\u003e\n      \u003ctd\u003e354\u003c/td\u003e\n      \u003ctd\u003e0\u003c/td\u003e\n      \u003ctd\u003e1\u003c/td\u003e\n      \u003ctd\u003e163\u003c/td\u003e\n      \u003ctd\u003e1\u003c/td\u003e\n      \u003ctd\u003e0.6\u003c/td\u003e\n      \u003ctd\u003e2\u003c/td\u003e\n      \u003ctd\u003e0\u003c/td\u003e\n      \u003ctd\u003e2\u003c/td\u003e\n      \u003ctd\u003e1\u003c/td\u003e\n    \u003c/tr\u003e\n  \u003c/tbody\u003e\n\u003c/table\u003e\n\u003c/div\u003e",
                        "text/plain": "   age  sex  cp  trestbps  chol  fbs  restecg  thalach  exang  oldpeak  slope  \\\n0   63    1   3       145   233    1        0      150      0      2.3      0   \n1   37    1   2       130   250    0        1      187      0      3.5      0   \n2   41    0   1       130   204    0        0      172      0      1.4      2   \n3   56    1   1       120   236    0        1      178      0      0.8      2   \n4   57    0   0       120   354    0        1      163      1      0.6      2   \n\n   ca  thal  target  \n0   0     1       1  \n1   0     2       1  \n2   0     2       1  \n3   0     2       1  \n4   0     2       1  "
                    },
                    "execution_count": 92,
                    "metadata": {},
                    "output_type": "execute_result"
                }
            ],
            "source": [
                "# Read in the data using panda's read_csv method\n",
                "dt = pd.read_csv(\"SupervisedLearning/HeartDiseaseIdentification/heart.csv\")\n",
                "\n",
                "#TODO: Write code to inspect the first five rows of the dataframe\n",
                "dt.head()"
            ]
        },
        {
            "attachments": {},
            "cell_type": "markdown",
            "metadata": {},
            "source": [
                "# Inspect data"
            ]
        },
        {
            "cell_type": "code",
            "execution_count": 95,
            "metadata": {},
            "outputs": [
                {
                    "data": {
                        "text/plain": "(303, 14)"
                    },
                    "execution_count": 95,
                    "metadata": {},
                    "output_type": "execute_result"
                }
            ],
            "source": [
                "#TODO: Write code to inspect the shape of the data frame\n",
                "dt.shape\n",
                ""
            ]
        },
        {
            "cell_type": "code",
            "execution_count": 96,
            "metadata": {},
            "outputs": [
                {
                    "name": "stdout",
                    "output_type": "stream",
                    "text": "\u003cclass 'pandas.core.frame.DataFrame'\u003e\nRangeIndex: 303 entries, 0 to 302\nData columns (total 14 columns):\n #   Column    Non-Null Count  Dtype  \n---  ------    --------------  -----  \n 0   age       303 non-null    int64  \n 1   sex       303 non-null    object \n 2   cp        303 non-null    int64  \n 3   trestbps  303 non-null    int64  \n 4   chol      303 non-null    int64  \n 5   fbs       303 non-null    int64  \n 6   restecg   303 non-null    int64  \n 7   thalach   303 non-null    int64  \n 8   exang     303 non-null    int64  \n 9   oldpeak   303 non-null    float64\n 10  slope     303 non-null    int64  \n 11  ca        303 non-null    int64  \n 12  thal      303 non-null    int64  \n 13  target    303 non-null    int64  \ndtypes: float64(1), int64(12), object(1)\nmemory usage: 33.3+ KB\n"
                }
            ],
            "source": [
                "#TODO: Write code to display information about the data frame\n",
                "dt.info()\n",
                ""
            ]
        },
        {
            "cell_type": "code",
            "execution_count": 97,
            "metadata": {},
            "outputs": [
                {
                    "data": {
                        "text/html": "\u003cdiv\u003e\n\u003cstyle scoped\u003e\n    .dataframe tbody tr th:only-of-type {\n        vertical-align: middle;\n    }\n\n    .dataframe tbody tr th {\n        vertical-align: top;\n    }\n\n    .dataframe thead th {\n        text-align: right;\n    }\n\u003c/style\u003e\n\u003ctable border=\"1\" class=\"dataframe\"\u003e\n  \u003cthead\u003e\n    \u003ctr style=\"text-align: right;\"\u003e\n      \u003cth\u003e\u003c/th\u003e\n      \u003cth\u003eage\u003c/th\u003e\n      \u003cth\u003ecp\u003c/th\u003e\n      \u003cth\u003etrestbps\u003c/th\u003e\n      \u003cth\u003echol\u003c/th\u003e\n      \u003cth\u003efbs\u003c/th\u003e\n      \u003cth\u003erestecg\u003c/th\u003e\n      \u003cth\u003ethalach\u003c/th\u003e\n      \u003cth\u003eexang\u003c/th\u003e\n      \u003cth\u003eoldpeak\u003c/th\u003e\n      \u003cth\u003eslope\u003c/th\u003e\n      \u003cth\u003eca\u003c/th\u003e\n      \u003cth\u003ethal\u003c/th\u003e\n      \u003cth\u003etarget\u003c/th\u003e\n    \u003c/tr\u003e\n  \u003c/thead\u003e\n  \u003ctbody\u003e\n    \u003ctr\u003e\n      \u003cth\u003ecount\u003c/th\u003e\n      \u003ctd\u003e303.000000\u003c/td\u003e\n      \u003ctd\u003e303.000000\u003c/td\u003e\n      \u003ctd\u003e303.000000\u003c/td\u003e\n      \u003ctd\u003e303.000000\u003c/td\u003e\n      \u003ctd\u003e303.000000\u003c/td\u003e\n      \u003ctd\u003e303.000000\u003c/td\u003e\n      \u003ctd\u003e303.000000\u003c/td\u003e\n      \u003ctd\u003e303.000000\u003c/td\u003e\n      \u003ctd\u003e303.000000\u003c/td\u003e\n      \u003ctd\u003e303.000000\u003c/td\u003e\n      \u003ctd\u003e303.000000\u003c/td\u003e\n      \u003ctd\u003e303.000000\u003c/td\u003e\n      \u003ctd\u003e303.000000\u003c/td\u003e\n    \u003c/tr\u003e\n    \u003ctr\u003e\n      \u003cth\u003emean\u003c/th\u003e\n      \u003ctd\u003e54.366337\u003c/td\u003e\n      \u003ctd\u003e0.966997\u003c/td\u003e\n      \u003ctd\u003e131.623762\u003c/td\u003e\n      \u003ctd\u003e246.264026\u003c/td\u003e\n      \u003ctd\u003e0.148515\u003c/td\u003e\n      \u003ctd\u003e0.528053\u003c/td\u003e\n      \u003ctd\u003e149.646865\u003c/td\u003e\n      \u003ctd\u003e0.326733\u003c/td\u003e\n      \u003ctd\u003e1.039604\u003c/td\u003e\n      \u003ctd\u003e1.399340\u003c/td\u003e\n      \u003ctd\u003e0.729373\u003c/td\u003e\n      \u003ctd\u003e2.313531\u003c/td\u003e\n      \u003ctd\u003e0.544554\u003c/td\u003e\n    \u003c/tr\u003e\n    \u003ctr\u003e\n      \u003cth\u003estd\u003c/th\u003e\n      \u003ctd\u003e9.082101\u003c/td\u003e\n      \u003ctd\u003e1.032052\u003c/td\u003e\n      \u003ctd\u003e17.538143\u003c/td\u003e\n      \u003ctd\u003e51.830751\u003c/td\u003e\n      \u003ctd\u003e0.356198\u003c/td\u003e\n      \u003ctd\u003e0.525860\u003c/td\u003e\n      \u003ctd\u003e22.905161\u003c/td\u003e\n      \u003ctd\u003e0.469794\u003c/td\u003e\n      \u003ctd\u003e1.161075\u003c/td\u003e\n      \u003ctd\u003e0.616226\u003c/td\u003e\n      \u003ctd\u003e1.022606\u003c/td\u003e\n      \u003ctd\u003e0.612277\u003c/td\u003e\n      \u003ctd\u003e0.498835\u003c/td\u003e\n    \u003c/tr\u003e\n    \u003ctr\u003e\n      \u003cth\u003emin\u003c/th\u003e\n      \u003ctd\u003e29.000000\u003c/td\u003e\n      \u003ctd\u003e0.000000\u003c/td\u003e\n      \u003ctd\u003e94.000000\u003c/td\u003e\n      \u003ctd\u003e126.000000\u003c/td\u003e\n      \u003ctd\u003e0.000000\u003c/td\u003e\n      \u003ctd\u003e0.000000\u003c/td\u003e\n      \u003ctd\u003e71.000000\u003c/td\u003e\n      \u003ctd\u003e0.000000\u003c/td\u003e\n      \u003ctd\u003e0.000000\u003c/td\u003e\n      \u003ctd\u003e0.000000\u003c/td\u003e\n      \u003ctd\u003e0.000000\u003c/td\u003e\n      \u003ctd\u003e0.000000\u003c/td\u003e\n      \u003ctd\u003e0.000000\u003c/td\u003e\n    \u003c/tr\u003e\n    \u003ctr\u003e\n      \u003cth\u003e25%\u003c/th\u003e\n      \u003ctd\u003e47.500000\u003c/td\u003e\n      \u003ctd\u003e0.000000\u003c/td\u003e\n      \u003ctd\u003e120.000000\u003c/td\u003e\n      \u003ctd\u003e211.000000\u003c/td\u003e\n      \u003ctd\u003e0.000000\u003c/td\u003e\n      \u003ctd\u003e0.000000\u003c/td\u003e\n      \u003ctd\u003e133.500000\u003c/td\u003e\n      \u003ctd\u003e0.000000\u003c/td\u003e\n      \u003ctd\u003e0.000000\u003c/td\u003e\n      \u003ctd\u003e1.000000\u003c/td\u003e\n      \u003ctd\u003e0.000000\u003c/td\u003e\n      \u003ctd\u003e2.000000\u003c/td\u003e\n      \u003ctd\u003e0.000000\u003c/td\u003e\n    \u003c/tr\u003e\n    \u003ctr\u003e\n      \u003cth\u003e50%\u003c/th\u003e\n      \u003ctd\u003e55.000000\u003c/td\u003e\n      \u003ctd\u003e1.000000\u003c/td\u003e\n      \u003ctd\u003e130.000000\u003c/td\u003e\n      \u003ctd\u003e240.000000\u003c/td\u003e\n      \u003ctd\u003e0.000000\u003c/td\u003e\n      \u003ctd\u003e1.000000\u003c/td\u003e\n      \u003ctd\u003e153.000000\u003c/td\u003e\n      \u003ctd\u003e0.000000\u003c/td\u003e\n      \u003ctd\u003e0.800000\u003c/td\u003e\n      \u003ctd\u003e1.000000\u003c/td\u003e\n      \u003ctd\u003e0.000000\u003c/td\u003e\n      \u003ctd\u003e2.000000\u003c/td\u003e\n      \u003ctd\u003e1.000000\u003c/td\u003e\n    \u003c/tr\u003e\n    \u003ctr\u003e\n      \u003cth\u003e75%\u003c/th\u003e\n      \u003ctd\u003e61.000000\u003c/td\u003e\n      \u003ctd\u003e2.000000\u003c/td\u003e\n      \u003ctd\u003e140.000000\u003c/td\u003e\n      \u003ctd\u003e274.500000\u003c/td\u003e\n      \u003ctd\u003e0.000000\u003c/td\u003e\n      \u003ctd\u003e1.000000\u003c/td\u003e\n      \u003ctd\u003e166.000000\u003c/td\u003e\n      \u003ctd\u003e1.000000\u003c/td\u003e\n      \u003ctd\u003e1.600000\u003c/td\u003e\n      \u003ctd\u003e2.000000\u003c/td\u003e\n      \u003ctd\u003e1.000000\u003c/td\u003e\n      \u003ctd\u003e3.000000\u003c/td\u003e\n      \u003ctd\u003e1.000000\u003c/td\u003e\n    \u003c/tr\u003e\n    \u003ctr\u003e\n      \u003cth\u003emax\u003c/th\u003e\n      \u003ctd\u003e77.000000\u003c/td\u003e\n      \u003ctd\u003e3.000000\u003c/td\u003e\n      \u003ctd\u003e200.000000\u003c/td\u003e\n      \u003ctd\u003e564.000000\u003c/td\u003e\n      \u003ctd\u003e1.000000\u003c/td\u003e\n      \u003ctd\u003e2.000000\u003c/td\u003e\n      \u003ctd\u003e202.000000\u003c/td\u003e\n      \u003ctd\u003e1.000000\u003c/td\u003e\n      \u003ctd\u003e6.200000\u003c/td\u003e\n      \u003ctd\u003e2.000000\u003c/td\u003e\n      \u003ctd\u003e4.000000\u003c/td\u003e\n      \u003ctd\u003e3.000000\u003c/td\u003e\n      \u003ctd\u003e1.000000\u003c/td\u003e\n    \u003c/tr\u003e\n  \u003c/tbody\u003e\n\u003c/table\u003e\n\u003c/div\u003e",
                        "text/plain": "              age          cp    trestbps        chol         fbs     restecg  \\\ncount  303.000000  303.000000  303.000000  303.000000  303.000000  303.000000   \nmean    54.366337    0.966997  131.623762  246.264026    0.148515    0.528053   \nstd      9.082101    1.032052   17.538143   51.830751    0.356198    0.525860   \nmin     29.000000    0.000000   94.000000  126.000000    0.000000    0.000000   \n25%     47.500000    0.000000  120.000000  211.000000    0.000000    0.000000   \n50%     55.000000    1.000000  130.000000  240.000000    0.000000    1.000000   \n75%     61.000000    2.000000  140.000000  274.500000    0.000000    1.000000   \nmax     77.000000    3.000000  200.000000  564.000000    1.000000    2.000000   \n\n          thalach       exang     oldpeak       slope          ca        thal  \\\ncount  303.000000  303.000000  303.000000  303.000000  303.000000  303.000000   \nmean   149.646865    0.326733    1.039604    1.399340    0.729373    2.313531   \nstd     22.905161    0.469794    1.161075    0.616226    1.022606    0.612277   \nmin     71.000000    0.000000    0.000000    0.000000    0.000000    0.000000   \n25%    133.500000    0.000000    0.000000    1.000000    0.000000    2.000000   \n50%    153.000000    0.000000    0.800000    1.000000    0.000000    2.000000   \n75%    166.000000    1.000000    1.600000    2.000000    1.000000    3.000000   \nmax    202.000000    1.000000    6.200000    2.000000    4.000000    3.000000   \n\n           target  \ncount  303.000000  \nmean     0.544554  \nstd      0.498835  \nmin      0.000000  \n25%      0.000000  \n50%      1.000000  \n75%      1.000000  \nmax      1.000000  "
                    },
                    "execution_count": 97,
                    "metadata": {},
                    "output_type": "execute_result"
                }
            ],
            "source": [
                "#TODO: Write code to display statistics about the data frame\n",
                "dt.describe()"
            ]
        },
        {
            "attachments": {},
            "cell_type": "markdown",
            "metadata": {},
            "source": [
                "# Clean data"
            ]
        },
        {
            "attachments": {},
            "cell_type": "markdown",
            "metadata": {},
            "source": [
                "**Correcting**"
            ]
        },
        {
            "attachments": {},
            "cell_type": "markdown",
            "metadata": {},
            "source": [
                "Let's change the column names to be a bit clearer"
            ]
        },
        {
            "cell_type": "code",
            "execution_count": 98,
            "metadata": {},
            "outputs": [],
            "source": [
                "dt.columns = ['age', 'sex', 'chest_pain_type', 'resting_blood_pressure', 'cholesterol', 'fasting_blood_sugar', 'rest_ecg', 'max_heart_rate_achieved',\n",
                "       'exercise_induced_angina', 'st_depression', 'st_slope', 'num_major_vessels', 'thalassemia', 'target']"
            ]
        },
        {
            "attachments": {},
            "cell_type": "markdown",
            "metadata": {},
            "source": [
                "**Converting**"
            ]
        },
        {
            "attachments": {},
            "cell_type": "markdown",
            "metadata": {},
            "source": [
                "Let's change the values of the categorical variables, to improve the interpretation later on"
            ]
        },
        {
            "cell_type": "code",
            "execution_count": 99,
            "metadata": {},
            "outputs": [
                {
                    "name": "stderr",
                    "output_type": "stream",
                    "text": "/tmp/ipykernel_116/2600364068.py:2: SettingWithCopyWarning: \nA value is trying to be set on a copy of a slice from a DataFrame\n\nSee the caveats in the documentation: https://pandas.pydata.org/pandas-docs/stable/user_guide/indexing.html#returning-a-view-versus-a-copy\n  dt['sex'][dt['sex'] == 0] = 'female'\n/tmp/ipykernel_116/2600364068.py:3: SettingWithCopyWarning: \nA value is trying to be set on a copy of a slice from a DataFrame\n\nSee the caveats in the documentation: https://pandas.pydata.org/pandas-docs/stable/user_guide/indexing.html#returning-a-view-versus-a-copy\n  dt['sex'][dt['sex'] == 1] = 'male'\n/tmp/ipykernel_116/2600364068.py:6: SettingWithCopyWarning: \nA value is trying to be set on a copy of a slice from a DataFrame\n\nSee the caveats in the documentation: https://pandas.pydata.org/pandas-docs/stable/user_guide/indexing.html#returning-a-view-versus-a-copy\n  dt['chest_pain_type'][dt['chest_pain_type'] == 1] = 'typical angina'\n/tmp/ipykernel_116/2600364068.py:14: SettingWithCopyWarning: \nA value is trying to be set on a copy of a slice from a DataFrame\n\nSee the caveats in the documentation: https://pandas.pydata.org/pandas-docs/stable/user_guide/indexing.html#returning-a-view-versus-a-copy\n  dt['fasting_blood_sugar'][dt['fasting_blood_sugar'] == 0] = 'lower than 120mg/ml'\n/tmp/ipykernel_116/2600364068.py:21: SettingWithCopyWarning: \nA value is trying to be set on a copy of a slice from a DataFrame\n\nSee the caveats in the documentation: https://pandas.pydata.org/pandas-docs/stable/user_guide/indexing.html#returning-a-view-versus-a-copy\n  dt['rest_ecg'][dt['rest_ecg'] == 0] = 'normal'\n/tmp/ipykernel_116/2600364068.py:28: SettingWithCopyWarning: \nA value is trying to be set on a copy of a slice from a DataFrame\n\nSee the caveats in the documentation: https://pandas.pydata.org/pandas-docs/stable/user_guide/indexing.html#returning-a-view-versus-a-copy\n  dt['exercise_induced_angina'][dt['exercise_induced_angina'] == 0] = 'no'\n/tmp/ipykernel_116/2600364068.py:35: SettingWithCopyWarning: \nA value is trying to be set on a copy of a slice from a DataFrame\n\nSee the caveats in the documentation: https://pandas.pydata.org/pandas-docs/stable/user_guide/indexing.html#returning-a-view-versus-a-copy\n  dt['st_slope'][dt['st_slope'] == 1] = 'upsloping'\n/tmp/ipykernel_116/2600364068.py:44: SettingWithCopyWarning: \nA value is trying to be set on a copy of a slice from a DataFrame\n\nSee the caveats in the documentation: https://pandas.pydata.org/pandas-docs/stable/user_guide/indexing.html#returning-a-view-versus-a-copy\n  dt['thalassemia'][dt['thalassemia'] == 1] = 'normal'\n"
                },
                {
                    "data": {
                        "text/html": "\u003cdiv\u003e\n\u003cstyle scoped\u003e\n    .dataframe tbody tr th:only-of-type {\n        vertical-align: middle;\n    }\n\n    .dataframe tbody tr th {\n        vertical-align: top;\n    }\n\n    .dataframe thead th {\n        text-align: right;\n    }\n\u003c/style\u003e\n\u003ctable border=\"1\" class=\"dataframe\"\u003e\n  \u003cthead\u003e\n    \u003ctr style=\"text-align: right;\"\u003e\n      \u003cth\u003e\u003c/th\u003e\n      \u003cth\u003eage\u003c/th\u003e\n      \u003cth\u003esex\u003c/th\u003e\n      \u003cth\u003echest_pain_type\u003c/th\u003e\n      \u003cth\u003eresting_blood_pressure\u003c/th\u003e\n      \u003cth\u003echolesterol\u003c/th\u003e\n      \u003cth\u003efasting_blood_sugar\u003c/th\u003e\n      \u003cth\u003erest_ecg\u003c/th\u003e\n      \u003cth\u003emax_heart_rate_achieved\u003c/th\u003e\n      \u003cth\u003eexercise_induced_angina\u003c/th\u003e\n      \u003cth\u003est_depression\u003c/th\u003e\n      \u003cth\u003est_slope\u003c/th\u003e\n      \u003cth\u003enum_major_vessels\u003c/th\u003e\n      \u003cth\u003ethalassemia\u003c/th\u003e\n      \u003cth\u003etarget\u003c/th\u003e\n    \u003c/tr\u003e\n  \u003c/thead\u003e\n  \u003ctbody\u003e\n    \u003ctr\u003e\n      \u003cth\u003e0\u003c/th\u003e\n      \u003ctd\u003e63\u003c/td\u003e\n      \u003ctd\u003emale\u003c/td\u003e\n      \u003ctd\u003enon-anginal pain\u003c/td\u003e\n      \u003ctd\u003e145\u003c/td\u003e\n      \u003ctd\u003e233\u003c/td\u003e\n      \u003ctd\u003egreater than 120mg/ml\u003c/td\u003e\n      \u003ctd\u003enormal\u003c/td\u003e\n      \u003ctd\u003e150\u003c/td\u003e\n      \u003ctd\u003eno\u003c/td\u003e\n      \u003ctd\u003e2.3\u003c/td\u003e\n      \u003ctd\u003e0\u003c/td\u003e\n      \u003ctd\u003e0\u003c/td\u003e\n      \u003ctd\u003enormal\u003c/td\u003e\n      \u003ctd\u003e1\u003c/td\u003e\n    \u003c/tr\u003e\n    \u003ctr\u003e\n      \u003cth\u003e1\u003c/th\u003e\n      \u003ctd\u003e37\u003c/td\u003e\n      \u003ctd\u003emale\u003c/td\u003e\n      \u003ctd\u003eatypical angina\u003c/td\u003e\n      \u003ctd\u003e130\u003c/td\u003e\n      \u003ctd\u003e250\u003c/td\u003e\n      \u003ctd\u003elower than 120mg/ml\u003c/td\u003e\n      \u003ctd\u003eST-T wave abnormality\u003c/td\u003e\n      \u003ctd\u003e187\u003c/td\u003e\n      \u003ctd\u003eno\u003c/td\u003e\n      \u003ctd\u003e3.5\u003c/td\u003e\n      \u003ctd\u003e0\u003c/td\u003e\n      \u003ctd\u003e0\u003c/td\u003e\n      \u003ctd\u003efixed defect\u003c/td\u003e\n      \u003ctd\u003e1\u003c/td\u003e\n    \u003c/tr\u003e\n    \u003ctr\u003e\n      \u003cth\u003e2\u003c/th\u003e\n      \u003ctd\u003e41\u003c/td\u003e\n      \u003ctd\u003efemale\u003c/td\u003e\n      \u003ctd\u003etypical angina\u003c/td\u003e\n      \u003ctd\u003e130\u003c/td\u003e\n      \u003ctd\u003e204\u003c/td\u003e\n      \u003ctd\u003elower than 120mg/ml\u003c/td\u003e\n      \u003ctd\u003enormal\u003c/td\u003e\n      \u003ctd\u003e172\u003c/td\u003e\n      \u003ctd\u003eno\u003c/td\u003e\n      \u003ctd\u003e1.4\u003c/td\u003e\n      \u003ctd\u003eflat\u003c/td\u003e\n      \u003ctd\u003e0\u003c/td\u003e\n      \u003ctd\u003efixed defect\u003c/td\u003e\n      \u003ctd\u003e1\u003c/td\u003e\n    \u003c/tr\u003e\n    \u003ctr\u003e\n      \u003cth\u003e3\u003c/th\u003e\n      \u003ctd\u003e56\u003c/td\u003e\n      \u003ctd\u003emale\u003c/td\u003e\n      \u003ctd\u003etypical angina\u003c/td\u003e\n      \u003ctd\u003e120\u003c/td\u003e\n      \u003ctd\u003e236\u003c/td\u003e\n      \u003ctd\u003elower than 120mg/ml\u003c/td\u003e\n      \u003ctd\u003eST-T wave abnormality\u003c/td\u003e\n      \u003ctd\u003e178\u003c/td\u003e\n      \u003ctd\u003eno\u003c/td\u003e\n      \u003ctd\u003e0.8\u003c/td\u003e\n      \u003ctd\u003eflat\u003c/td\u003e\n      \u003ctd\u003e0\u003c/td\u003e\n      \u003ctd\u003efixed defect\u003c/td\u003e\n      \u003ctd\u003e1\u003c/td\u003e\n    \u003c/tr\u003e\n    \u003ctr\u003e\n      \u003cth\u003e4\u003c/th\u003e\n      \u003ctd\u003e57\u003c/td\u003e\n      \u003ctd\u003efemale\u003c/td\u003e\n      \u003ctd\u003e0\u003c/td\u003e\n      \u003ctd\u003e120\u003c/td\u003e\n      \u003ctd\u003e354\u003c/td\u003e\n      \u003ctd\u003elower than 120mg/ml\u003c/td\u003e\n      \u003ctd\u003eST-T wave abnormality\u003c/td\u003e\n      \u003ctd\u003e163\u003c/td\u003e\n      \u003ctd\u003eyes\u003c/td\u003e\n      \u003ctd\u003e0.6\u003c/td\u003e\n      \u003ctd\u003eflat\u003c/td\u003e\n      \u003ctd\u003e0\u003c/td\u003e\n      \u003ctd\u003efixed defect\u003c/td\u003e\n      \u003ctd\u003e1\u003c/td\u003e\n    \u003c/tr\u003e\n    \u003ctr\u003e\n      \u003cth\u003e...\u003c/th\u003e\n      \u003ctd\u003e...\u003c/td\u003e\n      \u003ctd\u003e...\u003c/td\u003e\n      \u003ctd\u003e...\u003c/td\u003e\n      \u003ctd\u003e...\u003c/td\u003e\n      \u003ctd\u003e...\u003c/td\u003e\n      \u003ctd\u003e...\u003c/td\u003e\n      \u003ctd\u003e...\u003c/td\u003e\n      \u003ctd\u003e...\u003c/td\u003e\n      \u003ctd\u003e...\u003c/td\u003e\n      \u003ctd\u003e...\u003c/td\u003e\n      \u003ctd\u003e...\u003c/td\u003e\n      \u003ctd\u003e...\u003c/td\u003e\n      \u003ctd\u003e...\u003c/td\u003e\n      \u003ctd\u003e...\u003c/td\u003e\n    \u003c/tr\u003e\n    \u003ctr\u003e\n      \u003cth\u003e298\u003c/th\u003e\n      \u003ctd\u003e57\u003c/td\u003e\n      \u003ctd\u003efemale\u003c/td\u003e\n      \u003ctd\u003e0\u003c/td\u003e\n      \u003ctd\u003e140\u003c/td\u003e\n      \u003ctd\u003e241\u003c/td\u003e\n      \u003ctd\u003elower than 120mg/ml\u003c/td\u003e\n      \u003ctd\u003eST-T wave abnormality\u003c/td\u003e\n      \u003ctd\u003e123\u003c/td\u003e\n      \u003ctd\u003eyes\u003c/td\u003e\n      \u003ctd\u003e0.2\u003c/td\u003e\n      \u003ctd\u003eupsloping\u003c/td\u003e\n      \u003ctd\u003e0\u003c/td\u003e\n      \u003ctd\u003ereversable defect\u003c/td\u003e\n      \u003ctd\u003e0\u003c/td\u003e\n    \u003c/tr\u003e\n    \u003ctr\u003e\n      \u003cth\u003e299\u003c/th\u003e\n      \u003ctd\u003e45\u003c/td\u003e\n      \u003ctd\u003emale\u003c/td\u003e\n      \u003ctd\u003enon-anginal pain\u003c/td\u003e\n      \u003ctd\u003e110\u003c/td\u003e\n      \u003ctd\u003e264\u003c/td\u003e\n      \u003ctd\u003elower than 120mg/ml\u003c/td\u003e\n      \u003ctd\u003eST-T wave abnormality\u003c/td\u003e\n      \u003ctd\u003e132\u003c/td\u003e\n      \u003ctd\u003eno\u003c/td\u003e\n      \u003ctd\u003e1.2\u003c/td\u003e\n      \u003ctd\u003eupsloping\u003c/td\u003e\n      \u003ctd\u003e0\u003c/td\u003e\n      \u003ctd\u003ereversable defect\u003c/td\u003e\n      \u003ctd\u003e0\u003c/td\u003e\n    \u003c/tr\u003e\n    \u003ctr\u003e\n      \u003cth\u003e300\u003c/th\u003e\n      \u003ctd\u003e68\u003c/td\u003e\n      \u003ctd\u003emale\u003c/td\u003e\n      \u003ctd\u003e0\u003c/td\u003e\n      \u003ctd\u003e144\u003c/td\u003e\n      \u003ctd\u003e193\u003c/td\u003e\n      \u003ctd\u003egreater than 120mg/ml\u003c/td\u003e\n      \u003ctd\u003eST-T wave abnormality\u003c/td\u003e\n      \u003ctd\u003e141\u003c/td\u003e\n      \u003ctd\u003eno\u003c/td\u003e\n      \u003ctd\u003e3.4\u003c/td\u003e\n      \u003ctd\u003eupsloping\u003c/td\u003e\n      \u003ctd\u003e2\u003c/td\u003e\n      \u003ctd\u003ereversable defect\u003c/td\u003e\n      \u003ctd\u003e0\u003c/td\u003e\n    \u003c/tr\u003e\n    \u003ctr\u003e\n      \u003cth\u003e301\u003c/th\u003e\n      \u003ctd\u003e57\u003c/td\u003e\n      \u003ctd\u003emale\u003c/td\u003e\n      \u003ctd\u003e0\u003c/td\u003e\n      \u003ctd\u003e130\u003c/td\u003e\n      \u003ctd\u003e131\u003c/td\u003e\n      \u003ctd\u003elower than 120mg/ml\u003c/td\u003e\n      \u003ctd\u003eST-T wave abnormality\u003c/td\u003e\n      \u003ctd\u003e115\u003c/td\u003e\n      \u003ctd\u003eyes\u003c/td\u003e\n      \u003ctd\u003e1.2\u003c/td\u003e\n      \u003ctd\u003eupsloping\u003c/td\u003e\n      \u003ctd\u003e1\u003c/td\u003e\n      \u003ctd\u003ereversable defect\u003c/td\u003e\n      \u003ctd\u003e0\u003c/td\u003e\n    \u003c/tr\u003e\n    \u003ctr\u003e\n      \u003cth\u003e302\u003c/th\u003e\n      \u003ctd\u003e57\u003c/td\u003e\n      \u003ctd\u003efemale\u003c/td\u003e\n      \u003ctd\u003etypical angina\u003c/td\u003e\n      \u003ctd\u003e130\u003c/td\u003e\n      \u003ctd\u003e236\u003c/td\u003e\n      \u003ctd\u003elower than 120mg/ml\u003c/td\u003e\n      \u003ctd\u003enormal\u003c/td\u003e\n      \u003ctd\u003e174\u003c/td\u003e\n      \u003ctd\u003eno\u003c/td\u003e\n      \u003ctd\u003e0.0\u003c/td\u003e\n      \u003ctd\u003eupsloping\u003c/td\u003e\n      \u003ctd\u003e1\u003c/td\u003e\n      \u003ctd\u003efixed defect\u003c/td\u003e\n      \u003ctd\u003e0\u003c/td\u003e\n    \u003c/tr\u003e\n  \u003c/tbody\u003e\n\u003c/table\u003e\n\u003cp\u003e303 rows × 14 columns\u003c/p\u003e\n\u003c/div\u003e",
                        "text/plain": "     age     sex   chest_pain_type  resting_blood_pressure  cholesterol  \\\n0     63    male  non-anginal pain                     145          233   \n1     37    male   atypical angina                     130          250   \n2     41  female    typical angina                     130          204   \n3     56    male    typical angina                     120          236   \n4     57  female                 0                     120          354   \n..   ...     ...               ...                     ...          ...   \n298   57  female                 0                     140          241   \n299   45    male  non-anginal pain                     110          264   \n300   68    male                 0                     144          193   \n301   57    male                 0                     130          131   \n302   57  female    typical angina                     130          236   \n\n       fasting_blood_sugar               rest_ecg  max_heart_rate_achieved  \\\n0    greater than 120mg/ml                 normal                      150   \n1      lower than 120mg/ml  ST-T wave abnormality                      187   \n2      lower than 120mg/ml                 normal                      172   \n3      lower than 120mg/ml  ST-T wave abnormality                      178   \n4      lower than 120mg/ml  ST-T wave abnormality                      163   \n..                     ...                    ...                      ...   \n298    lower than 120mg/ml  ST-T wave abnormality                      123   \n299    lower than 120mg/ml  ST-T wave abnormality                      132   \n300  greater than 120mg/ml  ST-T wave abnormality                      141   \n301    lower than 120mg/ml  ST-T wave abnormality                      115   \n302    lower than 120mg/ml                 normal                      174   \n\n    exercise_induced_angina  st_depression   st_slope  num_major_vessels  \\\n0                        no            2.3          0                  0   \n1                        no            3.5          0                  0   \n2                        no            1.4       flat                  0   \n3                        no            0.8       flat                  0   \n4                       yes            0.6       flat                  0   \n..                      ...            ...        ...                ...   \n298                     yes            0.2  upsloping                  0   \n299                      no            1.2  upsloping                  0   \n300                      no            3.4  upsloping                  2   \n301                     yes            1.2  upsloping                  1   \n302                      no            0.0  upsloping                  1   \n\n           thalassemia  target  \n0               normal       1  \n1         fixed defect       1  \n2         fixed defect       1  \n3         fixed defect       1  \n4         fixed defect       1  \n..                 ...     ...  \n298  reversable defect       0  \n299  reversable defect       0  \n300  reversable defect       0  \n301  reversable defect       0  \n302       fixed defect       0  \n\n[303 rows x 14 columns]"
                    },
                    "execution_count": 99,
                    "metadata": {},
                    "output_type": "execute_result"
                }
            ],
            "source": [
                "# Convert features 'female' and 'male' to 0 and 1\n",
                "dt['sex'][dt['sex'] == 0] = 'female'\n",
                "dt['sex'][dt['sex'] == 1] = 'male'\n",
                "\n",
                "# Convert chest_pain_type features to 0,1,2,3 and 4\n",
                "dt['chest_pain_type'][dt['chest_pain_type'] == 1] = 'typical angina'\n",
                "dt['chest_pain_type'][dt['chest_pain_type'] == 2] = 'atypical angina'\n",
                "dt['chest_pain_type'][dt['chest_pain_type'] == 3] = 'non-anginal pain'\n",
                "dt['chest_pain_type'][dt['chest_pain_type'] == 4] = 'asymptomatic'\n",
                "\n",
                "#TODO: Write code to convert fasting_blood_sugar features\n",
                "#Hint: 'lower than 120mg/ml' should be 0, and \n",
                "#'greater than 120mg/ml' should be 1\n",
                "dt['fasting_blood_sugar'][dt['fasting_blood_sugar'] == 0] = 'lower than 120mg/ml'\n",
                "dt['fasting_blood_sugar'][dt['fasting_blood_sugar'] == 1] = 'greater than 120mg/ml'\n",
                "\n",
                "#TODO: Write code to convert rest_ecg features\n",
                "#Hint: 'normal' should be 0, and \n",
                "#'ST-T wave abnormality' should be 1\n",
                "#'left ventricular hypertrophy' should be 2\n",
                "dt['rest_ecg'][dt['rest_ecg'] == 0] = 'normal'\n",
                "dt['rest_ecg'][dt['rest_ecg'] == 1] = 'ST-T wave abnormality'\n",
                "dt['rest_ecg'][dt['rest_ecg'] == 2] = 'left ventricular hypertrophy'\n",
                "\n",
                "#TODO: Write code to convert exercise_induced_angina features\n",
                "#Hint: 'no' should be 0, and \n",
                "#'yes' should be 1\n",
                "dt['exercise_induced_angina'][dt['exercise_induced_angina'] == 0] = 'no'\n",
                "dt['exercise_induced_angina'][dt['exercise_induced_angina'] == 1] = 'yes'\n",
                "\n",
                "#TODO: Write code to convert st_slope features\n",
                "#Hint: 'upsloping' should be 0, and \n",
                "#'flat' should be 1\n",
                "#'downsloping' should be 2\n",
                "dt['st_slope'][dt['st_slope'] == 1] = 'upsloping'\n",
                "dt['st_slope'][dt['st_slope'] == 2] = 'flat'\n",
                "dt['st_slope'][dt['st_slope'] == 3] = 'downsloping'\n",
                "\n",
                "\n",
                "#TODO: Write code to convert thalassemia features\n",
                "#Hint: 'normal' should be 0, and \n",
                "#'fixed defect' should be 1\n",
                "#'reversable defect' should be 2\n",
                "dt['thalassemia'][dt['thalassemia'] == 1] = 'normal'\n",
                "dt['thalassemia'][dt['thalassemia'] == 2] = 'fixed defect'\n",
                "dt['thalassemia'][dt['thalassemia'] == 3] = 'reversable defect'\n",
                "\n",
                "dt"
            ]
        },
        {
            "attachments": {},
            "cell_type": "markdown",
            "metadata": {},
            "source": [
                "Check the data types"
            ]
        },
        {
            "cell_type": "code",
            "execution_count": 100,
            "metadata": {},
            "outputs": [
                {
                    "data": {
                        "text/plain": "age                          int64\nsex                         object\nchest_pain_type             object\nresting_blood_pressure       int64\ncholesterol                  int64\nfasting_blood_sugar         object\nrest_ecg                    object\nmax_heart_rate_achieved      int64\nexercise_induced_angina     object\nst_depression              float64\nst_slope                    object\nnum_major_vessels            int64\nthalassemia                 object\ntarget                       int64\ndtype: object"
                    },
                    "execution_count": 100,
                    "metadata": {},
                    "output_type": "execute_result"
                }
            ],
            "source": [
                "dt.dtypes"
            ]
        },
        {
            "attachments": {},
            "cell_type": "markdown",
            "metadata": {},
            "source": [
                "Some of those aren't quite right. The code below changes them into categorical variables"
            ]
        },
        {
            "cell_type": "code",
            "execution_count": 101,
            "metadata": {},
            "outputs": [],
            "source": [
                "dt['sex'] = dt['sex'].astype('object')\n",
                "dt['chest_pain_type'] = dt['chest_pain_type'].astype('object')\n",
                "dt['fasting_blood_sugar'] = dt['fasting_blood_sugar'].astype('object')\n",
                "dt['rest_ecg'] = dt['rest_ecg'].astype('object')\n",
                "dt['exercise_induced_angina'] = dt['exercise_induced_angina'].astype('object')\n",
                "dt['st_slope'] = dt['st_slope'].astype('object')\n",
                "dt['thalassemia'] = dt['thalassemia'].astype('object')"
            ]
        },
        {
            "cell_type": "code",
            "execution_count": 102,
            "metadata": {},
            "outputs": [
                {
                    "data": {
                        "text/plain": "age                          int64\nsex                         object\nchest_pain_type             object\nresting_blood_pressure       int64\ncholesterol                  int64\nfasting_blood_sugar         object\nrest_ecg                    object\nmax_heart_rate_achieved      int64\nexercise_induced_angina     object\nst_depression              float64\nst_slope                    object\nnum_major_vessels            int64\nthalassemia                 object\ntarget                       int64\ndtype: object"
                    },
                    "execution_count": 102,
                    "metadata": {},
                    "output_type": "execute_result"
                }
            ],
            "source": [
                "#TODO: Write code to check the data types again see the change\n",
                "dt.dtypes"
            ]
        },
        {
            "attachments": {},
            "cell_type": "markdown",
            "metadata": {},
            "source": [
                "**Creating**"
            ]
        },
        {
            "attachments": {},
            "cell_type": "markdown",
            "metadata": {},
            "source": [
                "For the categorical varibles, we need to create dummy variables and drop the first category of each. \n",
                "\n",
                "For example, rather than having 'male' and 'female', we'll have 'male' with values of 0 or 1 (1 being male, and 0 therefore being female)."
            ]
        },
        {
            "cell_type": "code",
            "execution_count": 103,
            "metadata": {},
            "outputs": [],
            "source": [
                "dt = pd.get_dummies(dt, drop_first = True)"
            ]
        },
        {
            "attachments": {},
            "cell_type": "markdown",
            "metadata": {},
            "source": [
                "Inspect the data frame"
            ]
        },
        {
            "cell_type": "code",
            "execution_count": 104,
            "metadata": {},
            "outputs": [
                {
                    "data": {
                        "text/html": "\u003cdiv\u003e\n\u003cstyle scoped\u003e\n    .dataframe tbody tr th:only-of-type {\n        vertical-align: middle;\n    }\n\n    .dataframe tbody tr th {\n        vertical-align: top;\n    }\n\n    .dataframe thead th {\n        text-align: right;\n    }\n\u003c/style\u003e\n\u003ctable border=\"1\" class=\"dataframe\"\u003e\n  \u003cthead\u003e\n    \u003ctr style=\"text-align: right;\"\u003e\n      \u003cth\u003e\u003c/th\u003e\n      \u003cth\u003eage\u003c/th\u003e\n      \u003cth\u003eresting_blood_pressure\u003c/th\u003e\n      \u003cth\u003echolesterol\u003c/th\u003e\n      \u003cth\u003emax_heart_rate_achieved\u003c/th\u003e\n      \u003cth\u003est_depression\u003c/th\u003e\n      \u003cth\u003enum_major_vessels\u003c/th\u003e\n      \u003cth\u003etarget\u003c/th\u003e\n      \u003cth\u003esex_male\u003c/th\u003e\n      \u003cth\u003echest_pain_type_atypical angina\u003c/th\u003e\n      \u003cth\u003echest_pain_type_non-anginal pain\u003c/th\u003e\n      \u003cth\u003echest_pain_type_typical angina\u003c/th\u003e\n      \u003cth\u003efasting_blood_sugar_lower than 120mg/ml\u003c/th\u003e\n      \u003cth\u003erest_ecg_left ventricular hypertrophy\u003c/th\u003e\n      \u003cth\u003erest_ecg_normal\u003c/th\u003e\n      \u003cth\u003eexercise_induced_angina_yes\u003c/th\u003e\n      \u003cth\u003est_slope_flat\u003c/th\u003e\n      \u003cth\u003est_slope_upsloping\u003c/th\u003e\n      \u003cth\u003ethalassemia_fixed defect\u003c/th\u003e\n      \u003cth\u003ethalassemia_normal\u003c/th\u003e\n      \u003cth\u003ethalassemia_reversable defect\u003c/th\u003e\n    \u003c/tr\u003e\n  \u003c/thead\u003e\n  \u003ctbody\u003e\n    \u003ctr\u003e\n      \u003cth\u003e0\u003c/th\u003e\n      \u003ctd\u003e63\u003c/td\u003e\n      \u003ctd\u003e145\u003c/td\u003e\n      \u003ctd\u003e233\u003c/td\u003e\n      \u003ctd\u003e150\u003c/td\u003e\n      \u003ctd\u003e2.3\u003c/td\u003e\n      \u003ctd\u003e0\u003c/td\u003e\n      \u003ctd\u003e1\u003c/td\u003e\n      \u003ctd\u003e1\u003c/td\u003e\n      \u003ctd\u003e0\u003c/td\u003e\n      \u003ctd\u003e1\u003c/td\u003e\n      \u003ctd\u003e0\u003c/td\u003e\n      \u003ctd\u003e0\u003c/td\u003e\n      \u003ctd\u003e0\u003c/td\u003e\n      \u003ctd\u003e1\u003c/td\u003e\n      \u003ctd\u003e0\u003c/td\u003e\n      \u003ctd\u003e0\u003c/td\u003e\n      \u003ctd\u003e0\u003c/td\u003e\n      \u003ctd\u003e0\u003c/td\u003e\n      \u003ctd\u003e1\u003c/td\u003e\n      \u003ctd\u003e0\u003c/td\u003e\n    \u003c/tr\u003e\n    \u003ctr\u003e\n      \u003cth\u003e1\u003c/th\u003e\n      \u003ctd\u003e37\u003c/td\u003e\n      \u003ctd\u003e130\u003c/td\u003e\n      \u003ctd\u003e250\u003c/td\u003e\n      \u003ctd\u003e187\u003c/td\u003e\n      \u003ctd\u003e3.5\u003c/td\u003e\n      \u003ctd\u003e0\u003c/td\u003e\n      \u003ctd\u003e1\u003c/td\u003e\n      \u003ctd\u003e1\u003c/td\u003e\n      \u003ctd\u003e1\u003c/td\u003e\n      \u003ctd\u003e0\u003c/td\u003e\n      \u003ctd\u003e0\u003c/td\u003e\n      \u003ctd\u003e1\u003c/td\u003e\n      \u003ctd\u003e0\u003c/td\u003e\n      \u003ctd\u003e0\u003c/td\u003e\n      \u003ctd\u003e0\u003c/td\u003e\n      \u003ctd\u003e0\u003c/td\u003e\n      \u003ctd\u003e0\u003c/td\u003e\n      \u003ctd\u003e1\u003c/td\u003e\n      \u003ctd\u003e0\u003c/td\u003e\n      \u003ctd\u003e0\u003c/td\u003e\n    \u003c/tr\u003e\n    \u003ctr\u003e\n      \u003cth\u003e2\u003c/th\u003e\n      \u003ctd\u003e41\u003c/td\u003e\n      \u003ctd\u003e130\u003c/td\u003e\n      \u003ctd\u003e204\u003c/td\u003e\n      \u003ctd\u003e172\u003c/td\u003e\n      \u003ctd\u003e1.4\u003c/td\u003e\n      \u003ctd\u003e0\u003c/td\u003e\n      \u003ctd\u003e1\u003c/td\u003e\n      \u003ctd\u003e0\u003c/td\u003e\n      \u003ctd\u003e0\u003c/td\u003e\n      \u003ctd\u003e0\u003c/td\u003e\n      \u003ctd\u003e1\u003c/td\u003e\n      \u003ctd\u003e1\u003c/td\u003e\n      \u003ctd\u003e0\u003c/td\u003e\n      \u003ctd\u003e1\u003c/td\u003e\n      \u003ctd\u003e0\u003c/td\u003e\n      \u003ctd\u003e1\u003c/td\u003e\n      \u003ctd\u003e0\u003c/td\u003e\n      \u003ctd\u003e1\u003c/td\u003e\n      \u003ctd\u003e0\u003c/td\u003e\n      \u003ctd\u003e0\u003c/td\u003e\n    \u003c/tr\u003e\n    \u003ctr\u003e\n      \u003cth\u003e3\u003c/th\u003e\n      \u003ctd\u003e56\u003c/td\u003e\n      \u003ctd\u003e120\u003c/td\u003e\n      \u003ctd\u003e236\u003c/td\u003e\n      \u003ctd\u003e178\u003c/td\u003e\n      \u003ctd\u003e0.8\u003c/td\u003e\n      \u003ctd\u003e0\u003c/td\u003e\n      \u003ctd\u003e1\u003c/td\u003e\n      \u003ctd\u003e1\u003c/td\u003e\n      \u003ctd\u003e0\u003c/td\u003e\n      \u003ctd\u003e0\u003c/td\u003e\n      \u003ctd\u003e1\u003c/td\u003e\n      \u003ctd\u003e1\u003c/td\u003e\n      \u003ctd\u003e0\u003c/td\u003e\n      \u003ctd\u003e0\u003c/td\u003e\n      \u003ctd\u003e0\u003c/td\u003e\n      \u003ctd\u003e1\u003c/td\u003e\n      \u003ctd\u003e0\u003c/td\u003e\n      \u003ctd\u003e1\u003c/td\u003e\n      \u003ctd\u003e0\u003c/td\u003e\n      \u003ctd\u003e0\u003c/td\u003e\n    \u003c/tr\u003e\n    \u003ctr\u003e\n      \u003cth\u003e4\u003c/th\u003e\n      \u003ctd\u003e57\u003c/td\u003e\n      \u003ctd\u003e120\u003c/td\u003e\n      \u003ctd\u003e354\u003c/td\u003e\n      \u003ctd\u003e163\u003c/td\u003e\n      \u003ctd\u003e0.6\u003c/td\u003e\n      \u003ctd\u003e0\u003c/td\u003e\n      \u003ctd\u003e1\u003c/td\u003e\n      \u003ctd\u003e0\u003c/td\u003e\n      \u003ctd\u003e0\u003c/td\u003e\n      \u003ctd\u003e0\u003c/td\u003e\n      \u003ctd\u003e0\u003c/td\u003e\n      \u003ctd\u003e1\u003c/td\u003e\n      \u003ctd\u003e0\u003c/td\u003e\n      \u003ctd\u003e0\u003c/td\u003e\n      \u003ctd\u003e1\u003c/td\u003e\n      \u003ctd\u003e1\u003c/td\u003e\n      \u003ctd\u003e0\u003c/td\u003e\n      \u003ctd\u003e1\u003c/td\u003e\n      \u003ctd\u003e0\u003c/td\u003e\n      \u003ctd\u003e0\u003c/td\u003e\n    \u003c/tr\u003e\n  \u003c/tbody\u003e\n\u003c/table\u003e\n\u003c/div\u003e",
                        "text/plain": "   age  resting_blood_pressure  cholesterol  max_heart_rate_achieved  \\\n0   63                     145          233                      150   \n1   37                     130          250                      187   \n2   41                     130          204                      172   \n3   56                     120          236                      178   \n4   57                     120          354                      163   \n\n   st_depression  num_major_vessels  target  sex_male  \\\n0            2.3                  0       1         1   \n1            3.5                  0       1         1   \n2            1.4                  0       1         0   \n3            0.8                  0       1         1   \n4            0.6                  0       1         0   \n\n   chest_pain_type_atypical angina  chest_pain_type_non-anginal pain  \\\n0                                0                                 1   \n1                                1                                 0   \n2                                0                                 0   \n3                                0                                 0   \n4                                0                                 0   \n\n   chest_pain_type_typical angina  fasting_blood_sugar_lower than 120mg/ml  \\\n0                               0                                        0   \n1                               0                                        1   \n2                               1                                        1   \n3                               1                                        1   \n4                               0                                        1   \n\n   rest_ecg_left ventricular hypertrophy  rest_ecg_normal  \\\n0                                      0                1   \n1                                      0                0   \n2                                      0                1   \n3                                      0                0   \n4                                      0                0   \n\n   exercise_induced_angina_yes  st_slope_flat  st_slope_upsloping  \\\n0                            0              0                   0   \n1                            0              0                   0   \n2                            0              1                   0   \n3                            0              1                   0   \n4                            1              1                   0   \n\n   thalassemia_fixed defect  thalassemia_normal  thalassemia_reversable defect  \n0                         0                   1                              0  \n1                         1                   0                              0  \n2                         1                   0                              0  \n3                         1                   0                              0  \n4                         1                   0                              0  "
                    },
                    "execution_count": 104,
                    "metadata": {},
                    "output_type": "execute_result"
                }
            ],
            "source": [
                "dt.head()"
            ]
        },
        {
            "attachments": {},
            "cell_type": "markdown",
            "metadata": {},
            "source": [
                "# Earn Your Wings"
            ]
        },
        {
            "attachments": {},
            "cell_type": "markdown",
            "metadata": {},
            "source": [
                "Use a decision tree classifier on the cleaned data set to predict 'Target' for the given data. Report the accuracy score. Add comments in your code to explain each step that you take in your implementation."
            ]
        },
        {
            "cell_type": "code",
            "execution_count": 105,
            "metadata": {},
            "outputs": [
                {
                    "name": "stderr",
                    "output_type": "stream",
                    "text": "/tmp/ipykernel_116/276800298.py:5: FutureWarning: In a future version of pandas all arguments of DataFrame.drop except for the argument 'labels' will be keyword-only.\n  X_train, X_test, y_train, y_test = train_test_split(dt.drop('target', 1), dt['target'], test_size = .2, random_state=10)\n"
                },
                {
                    "data": {
                        "text/plain": "0.7213114754098361"
                    },
                    "execution_count": 105,
                    "metadata": {},
                    "output_type": "execute_result"
                }
            ],
            "source": [
                "from sklearn.tree import DecisionTreeClassifier\n",
                "from sklearn.metrics import accuracy_score\n",
                "\n",
                "#Splitting the data into the X and y\n",
                "X_train, X_test, y_train, y_test = train_test_split(dt.drop('target', 1), dt['target'], test_size = .2, random_state=10)\n",
                "\n",
                "# Define the decision tree classifier model\n",
                "model = DecisionTreeClassifier()\n",
                "# Fit the model with X and y\n",
                "model.fit(X_train, y_train)\n",
                "\n",
                "# With the fitted model, predict using X_test\n",
                "predictions = model.predict(X_test)\n",
                "score = accuracy_score(y_test, predictions)\n",
                "\n",
                "score"
            ]
        },
        {
            "cell_type": "code",
            "execution_count": 106,
            "metadata": {},
            "outputs": [
                {
                    "data": {
                        "text/plain": "['SupervisedLearning/HeartDiseaseIdentification/model.joblib']"
                    },
                    "execution_count": 106,
                    "metadata": {},
                    "output_type": "execute_result"
                }
            ],
            "source": [
                "# Import the joblib library to save the model for future reuse\n",
                "import joblib\n",
                "\n",
                "# Redefine input and output sets, X and y\n",
                "X = dt.drop(columns = ['target'])\n",
                "y = dt['target']\n",
                "\n",
                "# Define the decision tree classifier model\n",
                "model = DecisionTreeClassifier()\n",
                "\n",
                "# Fit the model with X and y\n",
                "model.fit(X, y)\n",
                "\n",
                "#Save model in HeartDiseaseIdentification folder\n",
                "joblib.dump(model, 'SupervisedLearning/HeartDiseaseIdentification/model.joblib')"
            ]
        },
        {
            "cell_type": "code",
            "execution_count": 89,
            "metadata": {},
            "outputs": [],
            "source": [
                "# Load saved model\n",
                "model = joblib.load('SupervisedLearning/HeartDiseaseIdentification/model.joblib')\n",
                "\n",
                "#Test model with a value\n",
                "predictions = model.predict([[63,145,233,150,2.3,0,1,0,1,0,0,0,1,0,0,0,0,1,0]])\n",
                "#Output predictions\n",
                "predictions"
            ]
        },
        {
            "cell_type": "code",
            "execution_count": 90,
            "metadata": {},
            "outputs": [],
            "source": [
                "from sklearn import tree\n",
                "#Extract feature_names from column header\n",
                "feature_names = [i for i in X_train.columns]\n",
                "\n",
                "y_train_str = y_train.astype('str')\n",
                "y_train_str[y_train_str == '0'] = 'no disease'\n",
                "y_train_str[y_train_str == '1'] = 'disease'\n",
                "y_train_str = y_train_str.values\n",
                "\n",
                "#Exporting model as a dot file \n",
                "tree.export_graphviz(model, out_file='SupervisedLearning/HeartDiseaseIdentification/tree.dot',\n",
                "                    feature_names = feature_names,\n",
                "                     class_names = y_train_str,\n",
                "                     label='all',\n",
                "                     rounded=True,\n",
                "                     filled=True)\n",
                "#Convert dot file to png\n",
                "from subprocess import call\n",
                "call(['dot', '-Tpng', 'SupervisedLearning/HeartDiseaseIdentification/tree.dot', '-o', 'SupervisedLearning/HeartDiseaseIdentification/tree.png', '-Gdpi=600'])\n",
                "#Display png\n",
                "from IPython.display import Image\n",
                "Image(filename = 'SupervisedLearning/HeartDiseaseIdentification/tree.png')"
            ]
        }
    ]
}
