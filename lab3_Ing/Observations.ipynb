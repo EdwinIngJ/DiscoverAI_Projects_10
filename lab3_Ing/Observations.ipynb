{
    "metadata": {
        "kernelspec": {
            "name": "python3",
            "display_name": "Python 3 (ipykernel)",
            "language": "python"
        }
    },
    "nbformat": 4,
    "nbformat_minor": 2,
    "cells": [
        {
            "attachments": {},
            "cell_type": "markdown",
            "metadata": {},
            "source": [
                "**In the example(s) that you run, what did you learn about how entropy helps us understand data? In your answer, use results that you got from running your code**"
            ]
        },
        {
            "attachments": {},
            "cell_type": "markdown",
            "metadata": {},
            "source": [
                "I learned that entropy helps with gauging how good a dataset might be. Generally, datasets with high entropy are preferred because there is less predictability, so the model won't be biased toward a specific feature. In the supervised learning lab, I learned entropy can be used to train a decision tree. The accuracy score for model trained on the lab dataset with entropy was 0.895 while the score for the mode trained on my data set was around 0.991. "
            ]
        },
        {
            "attachments": {},
            "cell_type": "markdown",
            "metadata": {},
            "source": [
                "**What was the hardest part of the session?**\n",
                ""
            ]
        },
        {
            "attachments": {},
            "cell_type": "markdown",
            "metadata": {},
            "source": [
                "The hardest part of this session was understanding the mathematical formulas behind entropy. There are many variations and I'm still not sure in which situations each one is used. "
            ]
        },
        {
            "attachments": {},
            "cell_type": "markdown",
            "metadata": {},
            "source": [
                "**Please post a link to your public github repo**"
            ]
        },
        {
            "attachments": {},
            "cell_type": "markdown",
            "metadata": {},
            "source": [
                ""
            ]
        }
    ]
}
